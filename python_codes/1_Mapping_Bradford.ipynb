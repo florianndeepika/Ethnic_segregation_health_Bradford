{
 "cells": [
  {
   "cell_type": "markdown",
   "id": "98771bda",
   "metadata": {},
   "source": [
    "<!DOCTYPE html>\n",
    "\n",
    "<html>\n",
    "  <head>\n",
    "  </head>\n",
    "\n",
    "  <body>\n",
    "    <h1> Study of ethnic residential segregation and health outcomes with clustering analysis in Bradford, UK </h1>\n",
    "        <p>The purpose of this file is to understand the pattern of ethnic and health segregation in Bradford, UK by using geo-spatial data</p> \n",
    "  </body>\n",
    "</html>"
   ]
  },
  {
   "cell_type": "markdown",
   "id": "28e0a20c",
   "metadata": {},
   "source": [
    "Ethnic residential segregation is analysed using shapefile. `Geopandas` package is used to map UK to get an overview of geolocation of Bradford. \n",
    "Then Bradford is mapped using its shapefile to understand ethnic residential segregation inside Bradford. Map shows `Lower Layer Super Output Areas (LSOAs)`.\n",
    "\n",
    "Metadata for shapefile contains administrative boundaries such as LSOA and geometry location. \n",
    "It is essential to know the geographical location for policymakers to get an overview of areas to be focused in Bradford to improve healthy society."
   ]
  },
  {
   "cell_type": "markdown",
   "id": "261068d3",
   "metadata": {},
   "source": [
    "> Link to download data : __[UK and Bradford Shapefile](https://www.ons.gov.uk)__"
   ]
  },
  {
   "cell_type": "code",
   "execution_count": 93,
   "id": "af099420",
   "metadata": {},
   "outputs": [],
   "source": [
    "# import required packages\n",
    "\n",
    "import geopandas as gpd\n",
    "import descartes\n",
    "from matplotlib import rcParams\n",
    "import matplotlib.pyplot as plt\n",
    "import seaborn as sb\n",
    "import pandas as pd\n",
    "\n",
    "# Importing Image module from PIL package \n",
    "from PIL import Image \n",
    "import PIL \n",
    "\n",
    "#setting configs plot size\n",
    "%matplotlib inline\n",
    "rcParams['figure.figsize'] = 10,9\n",
    "\n",
    "import warnings\n",
    "warnings.filterwarnings(\"ignore\")"
   ]
  },
  {
   "cell_type": "markdown",
   "id": "f2f30861",
   "metadata": {},
   "source": [
    "## 1. Mapping the United Kingdom"
   ]
  },
  {
   "cell_type": "code",
   "execution_count": null,
   "id": "d43d4806",
   "metadata": {},
   "outputs": [],
   "source": [
    "# Load the UK shapefiles\n",
    "\n",
    "gdf_UK = gpd.read_file('Dataset/Mapping/UK_LSOA/Lower_Super_Output_Area_(LSOA)_IMD2019__(WGS84).shp')"
   ]
  },
  {
   "cell_type": "code",
   "execution_count": null,
   "id": "05d4c860",
   "metadata": {},
   "outputs": [],
   "source": [
    "#View the geopandas geodataframe\n",
    "\n",
    "gdf_UK.head(2)"
   ]
  },
  {
   "cell_type": "code",
   "execution_count": null,
   "id": "a676ca7f",
   "metadata": {},
   "outputs": [],
   "source": [
    "#gdf_UK.explore() #commented out because it renders entire world maps and increases the file size"
   ]
  },
  {
   "cell_type": "markdown",
   "id": "47b266e5",
   "metadata": {},
   "source": [
    "## 2. Mapping Bradford"
   ]
  },
  {
   "cell_type": "code",
   "execution_count": null,
   "id": "c3dbe396",
   "metadata": {
    "scrolled": false
   },
   "outputs": [],
   "source": [
    "# Load the Bradford shapefiles\n",
    "\n",
    "gdf_bradford = gpd.read_file('Dataset/Mapping/Bradford/Bradford.shp')"
   ]
  },
  {
   "cell_type": "code",
   "execution_count": null,
   "id": "52135924",
   "metadata": {
    "scrolled": false
   },
   "outputs": [],
   "source": [
    "#View the geopandas geodataframe\n",
    "\n",
    "gdf_bradford.head(2)"
   ]
  },
  {
   "cell_type": "code",
   "execution_count": null,
   "id": "6e676b21",
   "metadata": {},
   "outputs": [],
   "source": [
    "# Dropping other variables to join ethnic data to the geo dataframe\n",
    "\n",
    "gdf_bradford = gdf_bradford.drop([ 'allv_11', 'whtb_hg', 'whtb_md', 'whtb_lw', 'asn_hgh',\n",
    "                                   'asin_md', 'asin_lw', 'blck_hg', 'blck_md', 'blck_lw', 'othr_hg',\n",
    "                                   'othr_md', 'othr_lw', ], axis=1)"
   ]
  },
  {
   "cell_type": "code",
   "execution_count": null,
   "id": "0ee0e95e",
   "metadata": {},
   "outputs": [],
   "source": [
    "#gdf_bradford.explore()  #commented out because it renders entire world maps and increases the file size"
   ]
  },
  {
   "cell_type": "code",
   "execution_count": null,
   "id": "ab7120c2",
   "metadata": {},
   "outputs": [],
   "source": [
    "#Ploting georgraphical boundaries of Bradford wards\n",
    "\n",
    "gdf_bradford.plot(column='LSOA11C', figsize=(14,7))\n",
    "plt.title ('Bradford mapped with LSOA')\n",
    "plt.axis('off')\n",
    "plt.show()"
   ]
  },
  {
   "cell_type": "markdown",
   "id": "1c30a43b",
   "metadata": {},
   "source": [
    "### 2.1 Census data with ethnic and health data"
   ]
  },
  {
   "cell_type": "code",
   "execution_count": null,
   "id": "d72b3ccc",
   "metadata": {},
   "outputs": [],
   "source": [
    "#Loading the processed census dataset to get sense of health and ethnicity.\n",
    "\n",
    "data = pd.read_csv('Dataset/Processed_Data/processed_clustering_data.csv', index_col=0 )\n",
    "data.head(2)"
   ]
  },
  {
   "cell_type": "code",
   "execution_count": null,
   "id": "f476ef62",
   "metadata": {},
   "outputs": [],
   "source": [
    "# Rename the census DataFrame for joining with spatial data\n",
    "\n",
    "gdf_bradford.rename(columns={'LSOA11C': 'LSOA',}, inplace=True)"
   ]
  },
  {
   "cell_type": "code",
   "execution_count": null,
   "id": "18fd39c8",
   "metadata": {},
   "outputs": [],
   "source": [
    "#Joining both the dataset\n",
    "\n",
    "df  = gdf_bradford.merge(data, on='LSOA', how='left')\n",
    "gdf = gpd.GeoDataFrame(df)"
   ]
  },
  {
   "cell_type": "code",
   "execution_count": null,
   "id": "45fd81ec",
   "metadata": {},
   "outputs": [],
   "source": [
    "gdf.head(2)"
   ]
  },
  {
   "cell_type": "code",
   "execution_count": null,
   "id": "8c90de5c",
   "metadata": {},
   "outputs": [],
   "source": [
    "#Plotting percentage of Asians in Bradford\n",
    "\n",
    "rcParams['figure.figsize'] = 7,5\n",
    "gdf.plot(cmap = 'Blues', column = 'Asian_pct', edgecolor = 'Black') # with boundary and district\n",
    "plt.title ('Asian ethnicity in Bradford')\n",
    "plt.axis('off')\n",
    "plt.show()"
   ]
  },
  {
   "cell_type": "markdown",
   "id": "d9bbb9b2",
   "metadata": {},
   "source": [
    "<div class=\"alert alert-block alert-info\">\n",
    "<b>Insight:</b> Asians reside more in the southwestern and central part of Bradford.\n",
    "</div>"
   ]
  },
  {
   "cell_type": "code",
   "execution_count": null,
   "id": "08d21f2b",
   "metadata": {
    "scrolled": true
   },
   "outputs": [],
   "source": [
    "#Plot Bradford with Black Ethnicity\n",
    "\n",
    "black_bradford = gdf.plot(column = 'Black_pct', cmap='Blues', edgecolor = 'Black')\n",
    "plt.title ('Black ethnicity in Bradford')\n",
    "plt.axis('off')\n",
    "plt.show()"
   ]
  },
  {
   "cell_type": "markdown",
   "id": "2d9d9f56",
   "metadata": {},
   "source": [
    "<div class=\"alert alert-block alert-info\">\n",
    "<b>Insight:</b> Black ethnic group reside in high numbers in the southwestern of Bradford.\n",
    "While in the other region they are found in less population percentage.\n",
    "</div>"
   ]
  },
  {
   "cell_type": "code",
   "execution_count": null,
   "id": "c40b6096",
   "metadata": {
    "scrolled": true
   },
   "outputs": [],
   "source": [
    "#Plotting percentage of White in Bradford\n",
    "\n",
    "white_bradford = gdf.plot(column = 'White_pct', cmap='Blues', edgecolor = 'Black')\n",
    "plt.title ('White ethnicity in Bradford')\n",
    "plt.axis('off')\n",
    "plt.show()"
   ]
  },
  {
   "cell_type": "markdown",
   "id": "957d401e",
   "metadata": {},
   "source": [
    "<div class=\"alert alert-block alert-info\">\n",
    "<b>Insight:</b> White population are highly spread in Bradford. \n",
    "</div>"
   ]
  },
  {
   "cell_type": "code",
   "execution_count": null,
   "id": "65ccd978",
   "metadata": {
    "scrolled": true
   },
   "outputs": [],
   "source": [
    "#Plotting percentage of Others in Bradford\n",
    "\n",
    "rcParams['figure.figsize'] = 7,5\n",
    "gdf.plot(cmap = 'Blues', column = 'Others_pct', edgecolor = 'Black') # with boundary and district\n",
    "plt.title ('Other ethnic groups in Bradford')\n",
    "plt.axis('off')\n",
    "plt.show()"
   ]
  },
  {
   "cell_type": "markdown",
   "id": "6a12b0f3",
   "metadata": {},
   "source": [
    "<div class=\"alert alert-block alert-info\">\n",
    "<b>Insight:</b> Other ethnic group seems to be spread over Bradford. \n",
    "However, they are in less population except in southeastern region.\n",
    "</div>"
   ]
  },
  {
   "cell_type": "markdown",
   "id": "cdad1425",
   "metadata": {},
   "source": [
    "## General health"
   ]
  },
  {
   "cell_type": "code",
   "execution_count": null,
   "id": "c4667cec",
   "metadata": {},
   "outputs": [],
   "source": [
    "#Geographically plotting the census data  and Health condition\n",
    "\n",
    "attr = \"Health_Very_Good_pct\"\n",
    "ax = gdf.plot(column=attr, cmap='YlGn', legend=True, figsize=(12,5))\n",
    "ax.set_title(attr)\n",
    "plt.axis('off')\n",
    "plt.show()\n",
    "\n",
    "attr = \"Health_Fair_pct\"\n",
    "ax = gdf.plot(column=attr, cmap='BuPu', legend=True, figsize=(12,5))\n",
    "ax.set_title(attr)\n",
    "plt.axis('off')\n",
    "plt.show()\n",
    "\n",
    "attr = \"Health_Very_Bad_pct\"\n",
    "ax = gdf.plot(column=attr, cmap='YlOrBr', legend=True, figsize=(12,5))\n",
    "ax.set_title(attr)\n",
    "plt.axis('off')\n",
    "plt.show()"
   ]
  },
  {
   "cell_type": "markdown",
   "id": "b302ab1a",
   "metadata": {},
   "source": [
    "<div class=\"alert alert-block alert-info\">\n",
    "<b>Insight:</b> \n",
    "\n",
    "- Incomparison to the scale in each plot, population with very good health is high and they are spread all over Bradford\n",
    "    \n",
    "- population with fair health are identified only in less wards in central region\n",
    "    \n",
    "- Population with very bad health are less in percentage when compared to other two categories. However, having 25% of population with bad heath is alarming and region which has high percentage has to be focussed, especiialy where ethnic minoroties are seems to in high percentage.\n",
    "</div>"
   ]
  },
  {
   "cell_type": "markdown",
   "id": "cd76b95f",
   "metadata": {},
   "source": [
    "## Disability"
   ]
  },
  {
   "cell_type": "code",
   "execution_count": null,
   "id": "cad9cbb1",
   "metadata": {
    "scrolled": false
   },
   "outputs": [],
   "source": [
    "attr = \"Disabled_pct\"\n",
    "ax = gdf.plot(column=attr, cmap='GnBu', legend=True, figsize=(8,5))\n",
    "ax.set_title(attr)\n",
    "plt.axis('off')\n",
    "plt.show()\n",
    "\n",
    "attr = \"Disability_limited_lot_pct\"\n",
    "ax = gdf.plot(column=attr, cmap='Oranges', legend=True, figsize=(8,5))\n",
    "ax.set_title(attr)\n",
    "plt.axis('off')\n",
    "plt.show()\n",
    "\n",
    "attr = \"Disability_limited_little_pct\"\n",
    "ax = gdf.plot(column=attr, cmap='Oranges', legend=True, figsize=(8,5))\n",
    "ax.set_title(attr)\n",
    "plt.axis('off')\n",
    "plt.show()\n",
    "\n",
    "attr = \"Disability_No_pct\"\n",
    "ax = gdf.plot(column=attr, cmap='YlOrRd', legend=True, figsize=(8,5))\n",
    "ax.set_title(attr)\n",
    "plt.axis('off')\n",
    "plt.show()\n",
    "\n",
    "attr = \"Disability_phy_mental_yes_pct\"\n",
    "ax = gdf.plot(column=attr, cmap='YlOrRd', legend=True, figsize=(8,5))\n",
    "ax.set_title(attr)\n",
    "plt.axis('off')\n",
    "plt.show()\n",
    "\n",
    "attr = \"Disability_phy_mental_no_pct\"\n",
    "ax = gdf.plot(column=attr, cmap='YlOrRd', legend=True, figsize=(8,5))\n",
    "ax.set_title(attr)\n",
    "plt.axis('off')\n",
    "plt.show()"
   ]
  },
  {
   "cell_type": "markdown",
   "id": "1c631a84",
   "metadata": {},
   "source": [
    "<div class=\"alert alert-block alert-info\">\n",
    "<b>Insight:</b> \n",
    "    \n",
    "- From the overall plots, it can be identified that population with no disability and no physical and mental disability are high in number which seems to be good.\n",
    "\n",
    "- With reference to physical and mental disability, most affected population is in the central and northern part of Bradford\n",
    "    \n",
    "</div>"
   ]
  },
  {
   "cell_type": "markdown",
   "id": "26c56b45",
   "metadata": {},
   "source": [
    "## Unpaid care services"
   ]
  },
  {
   "cell_type": "code",
   "execution_count": null,
   "id": "da7abe58",
   "metadata": {},
   "outputs": [],
   "source": [
    "#Geographically plotting the census data  and Health condition\n",
    "\n",
    "attr = \"unpaid_care_no_pct\"\n",
    "ax = gdf.plot(column=attr, cmap='YlGn', legend=True, figsize=(12,5))\n",
    "ax.set_title(attr)\n",
    "plt.axis('off')\n",
    "plt.show()\n",
    "\n",
    "attr = \"unpaid_care_up9to49_pct\"\n",
    "ax = gdf.plot(column=attr, cmap='BuPu', legend=True, figsize=(12,5))\n",
    "ax.set_title(attr)\n",
    "plt.axis('off')\n",
    "plt.show()\n",
    "\n",
    "attr = \"unpaid_care_above50_pct\"\n",
    "ax = gdf.plot(column=attr, cmap='YlOrBr', legend=True, figsize=(12,5))\n",
    "ax.set_title(attr)\n",
    "plt.axis('off')\n",
    "plt.show()"
   ]
  },
  {
   "cell_type": "markdown",
   "id": "c9c7764e",
   "metadata": {},
   "source": [
    "<div class=\"alert alert-block alert-info\">\n",
    "<b>Insight:</b> \n",
    "    \n",
    "- As per unpaid_care_no_pct plot, it can be observed that in most part of Bradford there is no unpaid care service provided\n",
    "    \n",
    "- Almost 9 to 49 hours per week of unpaid care is provided more where White ethnic group reside\n",
    "    \n",
    "- Aove 50 hours per week unpaid care is provided mostly in the central and southeastern part of Bradford\n",
    "</div>"
   ]
  }
 ],
 "metadata": {
  "kernelspec": {
   "display_name": "Python 3 (ipykernel)",
   "language": "python",
   "name": "python3"
  },
  "language_info": {
   "codemirror_mode": {
    "name": "ipython",
    "version": 3
   },
   "file_extension": ".py",
   "mimetype": "text/x-python",
   "name": "python",
   "nbconvert_exporter": "python",
   "pygments_lexer": "ipython3",
   "version": "3.8.8"
  }
 },
 "nbformat": 4,
 "nbformat_minor": 5
}
