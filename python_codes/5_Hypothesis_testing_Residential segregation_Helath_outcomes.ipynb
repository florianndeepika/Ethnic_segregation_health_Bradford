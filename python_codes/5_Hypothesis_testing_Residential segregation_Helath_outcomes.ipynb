{
 "cells": [
  {
   "cell_type": "markdown",
   "id": "14efd4cf",
   "metadata": {},
   "source": [
    "<!DOCTYPE html>\n",
    "\n",
    "<html>\n",
    "  <head>\n",
    "  </head>\n",
    "\n",
    "  <body>\n",
    "    <h1> Study of ethnic residential segregation and health outcomes with clustering analysis in Bradford, UK </h1>\n",
    "    <p>The purpose of this file is to identify correlation between health outcomes, it’s disparities and residential segregation can be identified using statistical analysis</p> \n",
    "  </body>\n",
    "</html>\n"
   ]
  },
  {
   "cell_type": "markdown",
   "id": "5473e732",
   "metadata": {},
   "source": [
    "> **Hypotheis testing**\n",
    "\n",
    "Hypothesis testing is a statistical method to `identify if the hypothesis about a population parameter is supported by evidence in a sample`. It's a testing with a formal procedure to investigate if the specific prediction is true or not with evidence from the data."
   ]
  },
  {
   "cell_type": "markdown",
   "id": "d1d0e7ff",
   "metadata": {},
   "source": [
    "## 1. Data Collection"
   ]
  },
  {
   "cell_type": "code",
   "execution_count": 46,
   "id": "76c1da41",
   "metadata": {},
   "outputs": [],
   "source": [
    "# Importing required dataset\n",
    "\n",
    "import numpy as np # linear algebra\n",
    "import pandas as pd # data processing, CSV file I/O (e.g. pd.read_csv)\n",
    "\n",
    "# Visualization\n",
    "import seaborn as sns\n",
    "import matplotlib.pyplot as plt\n",
    "pd.set_option(\"display.max_rows\", 100)\n",
    "pd.set_option(\"display.max_columns\", 100)\n",
    "pd.set_option(\"display.float_format\", lambda x: \"%.4f\" % x)\n",
    "plt.style.use(\"ggplot\")\n",
    "%matplotlib inline\n",
    "\n",
    "#EDA\n",
    "import scipy.stats as stat\n",
    "from scipy import stats\n",
    "import pylab \n",
    "import scikit_posthocs as sp\n",
    "pd.options.display.float_format = '{:,.4f}'.format\n",
    "import random\n",
    "\n",
    "import warnings\n",
    "warnings.filterwarnings(\"ignore\")"
   ]
  },
  {
   "cell_type": "code",
   "execution_count": 47,
   "id": "a9e262e5",
   "metadata": {},
   "outputs": [
    {
     "data": {
      "text/html": [
       "<div>\n",
       "<style scoped>\n",
       "    .dataframe tbody tr th:only-of-type {\n",
       "        vertical-align: middle;\n",
       "    }\n",
       "\n",
       "    .dataframe tbody tr th {\n",
       "        vertical-align: top;\n",
       "    }\n",
       "\n",
       "    .dataframe thead th {\n",
       "        text-align: right;\n",
       "    }\n",
       "</style>\n",
       "<table border=\"1\" class=\"dataframe\">\n",
       "  <thead>\n",
       "    <tr style=\"text-align: right;\">\n",
       "      <th></th>\n",
       "      <th>LSOA</th>\n",
       "      <th>Asian_pct</th>\n",
       "      <th>Black_pct</th>\n",
       "      <th>White_pct</th>\n",
       "      <th>Others_pct</th>\n",
       "      <th>Health_Very_Good_pct</th>\n",
       "      <th>Health_Fair_pct</th>\n",
       "      <th>Health_Very_Bad_pct</th>\n",
       "      <th>Disabled_pct</th>\n",
       "      <th>Disability_limited_lot_pct</th>\n",
       "      <th>Disability_limited_little_pct</th>\n",
       "      <th>Disability_No_pct</th>\n",
       "      <th>Disability_phy_mental_yes_pct</th>\n",
       "      <th>Disability_phy_mental_no_pct</th>\n",
       "      <th>unpaid_care_up9to49_pct</th>\n",
       "      <th>unpaid_care_no_pct</th>\n",
       "      <th>unpaid_care_above50_pct</th>\n",
       "    </tr>\n",
       "  </thead>\n",
       "  <tbody>\n",
       "    <tr>\n",
       "      <th>0</th>\n",
       "      <td>E01010568</td>\n",
       "      <td>2.4400</td>\n",
       "      <td>0.6400</td>\n",
       "      <td>95.1200</td>\n",
       "      <td>1.8000</td>\n",
       "      <td>83.0100</td>\n",
       "      <td>11.9800</td>\n",
       "      <td>5.0000</td>\n",
       "      <td>17.0400</td>\n",
       "      <td>6.0500</td>\n",
       "      <td>10.9900</td>\n",
       "      <td>82.9600</td>\n",
       "      <td>8.6100</td>\n",
       "      <td>74.3500</td>\n",
       "      <td>13.7400</td>\n",
       "      <td>90.8200</td>\n",
       "      <td>1.9100</td>\n",
       "    </tr>\n",
       "    <tr>\n",
       "      <th>1</th>\n",
       "      <td>E01010569</td>\n",
       "      <td>1.2000</td>\n",
       "      <td>0.9700</td>\n",
       "      <td>95.4400</td>\n",
       "      <td>2.3900</td>\n",
       "      <td>77.1600</td>\n",
       "      <td>14.6400</td>\n",
       "      <td>8.2000</td>\n",
       "      <td>24.2700</td>\n",
       "      <td>11.1100</td>\n",
       "      <td>13.1600</td>\n",
       "      <td>75.7300</td>\n",
       "      <td>6.8900</td>\n",
       "      <td>68.8300</td>\n",
       "      <td>11.3700</td>\n",
       "      <td>89.7200</td>\n",
       "      <td>4.2100</td>\n",
       "    </tr>\n",
       "  </tbody>\n",
       "</table>\n",
       "</div>"
      ],
      "text/plain": [
       "        LSOA  Asian_pct  Black_pct  White_pct  Others_pct  \\\n",
       "0  E01010568     2.4400     0.6400    95.1200      1.8000   \n",
       "1  E01010569     1.2000     0.9700    95.4400      2.3900   \n",
       "\n",
       "   Health_Very_Good_pct  Health_Fair_pct  Health_Very_Bad_pct  Disabled_pct  \\\n",
       "0               83.0100          11.9800               5.0000       17.0400   \n",
       "1               77.1600          14.6400               8.2000       24.2700   \n",
       "\n",
       "   Disability_limited_lot_pct  Disability_limited_little_pct  \\\n",
       "0                      6.0500                        10.9900   \n",
       "1                     11.1100                        13.1600   \n",
       "\n",
       "   Disability_No_pct  Disability_phy_mental_yes_pct  \\\n",
       "0            82.9600                         8.6100   \n",
       "1            75.7300                         6.8900   \n",
       "\n",
       "   Disability_phy_mental_no_pct  unpaid_care_up9to49_pct  unpaid_care_no_pct  \\\n",
       "0                       74.3500                  13.7400             90.8200   \n",
       "1                       68.8300                  11.3700             89.7200   \n",
       "\n",
       "   unpaid_care_above50_pct  \n",
       "0                   1.9100  \n",
       "1                   4.2100  "
      ]
     },
     "execution_count": 47,
     "metadata": {},
     "output_type": "execute_result"
    }
   ],
   "source": [
    "#Load the required dataset\n",
    "\n",
    "data = pd.read_csv('Dataset/Processed_Data/processed_clustering_data.csv', index_col=0 )\n",
    "data.head(2)"
   ]
  },
  {
   "cell_type": "markdown",
   "id": "ae0d475d",
   "metadata": {},
   "source": [
    "## 2. Hypothesis testing"
   ]
  },
  {
   "cell_type": "markdown",
   "id": "62344b0a",
   "metadata": {},
   "source": [
    "**Hypothesis testing 1**\n",
    "\n",
    "`H0 (null hypothesis)`: Living in a neighborhood with a highly segregated Asian ethnic group lead to poor health outcomes for individuals compared to living in a neighborhood with a lower segregated Asian ethnic group\n",
    "\n",
    "`H1 (alternate hypothesis)`: Living in a neighborhood with a highly segregated Asian ethnic group lead to good health outcomes for individuals compared to living in a neighborhood with a lower segregated Asian ethnic group"
   ]
  },
  {
   "cell_type": "code",
   "execution_count": 48,
   "id": "71777cc6",
   "metadata": {},
   "outputs": [],
   "source": [
    "def check_normality(data):\n",
    "    test_stat_normality, p_value_normality=stats.shapiro(data)\n",
    "    print(\"p value:%.4f\" % p_value_normality)\n",
    "    if p_value_normality <0.05:\n",
    "        print(\"The data is not normally distributed\")\n",
    "    else:\n",
    "        print(\"The data is normally distributed\")  "
   ]
  },
  {
   "cell_type": "code",
   "execution_count": 49,
   "id": "e9dc91cf",
   "metadata": {},
   "outputs": [],
   "source": [
    "def check_variance_homogeneity(group1, group2):\n",
    "    test_stat_var, p_value_var= stats.levene(group1,group2)\n",
    "    print(\"p value:%.4f\" % p_value_var)\n",
    "    if p_value_var <0.05:\n",
    "        print(\"The variances of the samples are different.\")\n",
    "    else:\n",
    "        print(\"The variances of the samples are same.\")"
   ]
  },
  {
   "cell_type": "code",
   "execution_count": 50,
   "id": "cd160ae0",
   "metadata": {},
   "outputs": [],
   "source": [
    "# checking the normality of the census ethnic data"
   ]
  },
  {
   "cell_type": "code",
   "execution_count": 51,
   "id": "9adc45b6",
   "metadata": {},
   "outputs": [
    {
     "data": {
      "text/plain": [
       "<AxesSubplot: xlabel='Others_pct', ylabel='Density'>"
      ]
     },
     "execution_count": 51,
     "metadata": {},
     "output_type": "execute_result"
    },
    {
     "data": {
      "image/png": "[encoded data removed]",
      "text/plain": [
       "<Figure size 600x600 with 4 Axes>"
      ]
     },
     "metadata": {},
     "output_type": "display_data"
    }
   ],
   "source": [
    "fig, ax = plt.subplots(2, 2, figsize = (6, 6))\n",
    "sns.distplot(data['Asian_pct'], ax = ax[0,0])\n",
    "sns.distplot(data['Black_pct'], ax = ax[0,1])\n",
    "sns.distplot(data['White_pct'], ax = ax[1,0])\n",
    "sns.distplot(data['Others_pct'], ax = ax[1,1])"
   ]
  },
  {
   "cell_type": "markdown",
   "id": "83a48cae",
   "metadata": {},
   "source": [
    "Assuming that alpha=0.05 If p-value is >0.05, it can be said that data is normally distributed"
   ]
  },
  {
   "cell_type": "code",
   "execution_count": 52,
   "id": "d287902a",
   "metadata": {},
   "outputs": [
    {
     "name": "stdout",
     "output_type": "stream",
     "text": [
      "p value:0.0000\n",
      "The data is not normally distributed\n",
      "p value:0.0138\n",
      "The data is not normally distributed\n",
      "p value:0.0000\n",
      "The variances of the samples are different.\n"
     ]
    }
   ],
   "source": [
    "#checking normality and variance for the first hypothesis\n",
    "\n",
    "check_normality(data.Asian_pct)\n",
    "check_normality(data.Health_Very_Good_pct)\n",
    "check_variance_homogeneity(data.Asian_pct, data.Health_Very_Good_pct)"
   ]
  },
  {
   "cell_type": "code",
   "execution_count": 53,
   "id": "597a1e57",
   "metadata": {
    "scrolled": true
   },
   "outputs": [
    {
     "name": "stdout",
     "output_type": "stream",
     "text": [
      "p-value:0.000000 >> one_tailed_pval:0.000000\n",
      "one sided pvalue:0.000000\n",
      "Reject null hypothesis\n"
     ]
    }
   ],
   "source": [
    "#Wilcoxon signed-rank test\n",
    "\n",
    "test,pvalue = stats.wilcoxon(data.Asian_pct, data.Health_Very_Good_pct) ##alternative default two sided\n",
    "print(\"p-value:%.6f\" %pvalue, \">> one_tailed_pval:%.6f\" %(pvalue/2))\n",
    "\n",
    "test,one_sided_pvalue = stats.wilcoxon(data.Asian_pct, data.Health_Very_Good_pct, alternative=\"less\")\n",
    "print(\"one sided pvalue:%.6f\" %(one_sided_pvalue))\n",
    "if pvalue <0.05:\n",
    "    print(\"Reject null hypothesis\")\n",
    "else:\n",
    "    print(\"Fail to reject null hypothesis\")"
   ]
  },
  {
   "attachments": {},
   "cell_type": "markdown",
   "id": "a5d0425c",
   "metadata": {},
   "source": [
    "<div class=\"alert alert-block alert-info\">\n",
    "<b>Result:</b>\n",
    "\n",
    "p-value is less than 0.05, therefore null hypothesis is rejected. Therefore, alternate hypothesis is accepted. \n",
    "\n",
    "Living in a neighborhood with a highly segregated Asian ethnic group lead to good health outcomes for individuals compared to living in a neighborhood with a lower segregated Asian ethnic group \n",
    "\n",
    "</div>"
   ]
  },
  {
   "cell_type": "markdown",
   "id": "0fde8f34",
   "metadata": {},
   "source": [
    "**Hypothesis testing 2**\n",
    "\n",
    "`H0 (null hypothesis)`: Neighborhoods with higher black ethnic group have higher population with disabled percentage compared to neighborhoods with lower black ethnic density\n",
    "    \n",
    "`H1 (alternate hypothesis)`: Neighborhoods with higher black ethnic group have lesser population with disabled percentage compared to neighborhoods with lower black ethnic density"
   ]
  },
  {
   "cell_type": "code",
   "execution_count": 54,
   "id": "8597dc4f",
   "metadata": {},
   "outputs": [
    {
     "name": "stdout",
     "output_type": "stream",
     "text": [
      "p value:0.0000\n",
      "The data is not normally distributed\n",
      "p value:0.0000\n",
      "The data is not normally distributed\n",
      "p value:0.0000\n",
      "The variances of the samples are different.\n"
     ]
    }
   ],
   "source": [
    "#checking normality and variance for the second hypothesis\n",
    "\n",
    "check_normality(data.Black_pct)\n",
    "check_normality(data.Disabled_pct)\n",
    "check_variance_homogeneity(data.Black_pct, data.Disabled_pct)"
   ]
  },
  {
   "cell_type": "code",
   "execution_count": 55,
   "id": "e146f0ac",
   "metadata": {},
   "outputs": [
    {
     "name": "stdout",
     "output_type": "stream",
     "text": [
      "p-value:0.000000 >> one_tailed_pval:0.000000\n",
      "one sided pvalue:0.000000\n",
      "Reject null hypothesis\n"
     ]
    }
   ],
   "source": [
    "#Wilcoxon signed-rank test\n",
    "\n",
    "test,pvalue = stats.wilcoxon(data.Black_pct, data.Disabled_pct) ##alternative default two sided\n",
    "print(\"p-value:%.6f\" %pvalue, \">> one_tailed_pval:%.6f\" %(pvalue/2))\n",
    "\n",
    "test,one_sided_pvalue = stats.wilcoxon(data.Black_pct, data.Disabled_pct, alternative=\"less\")\n",
    "print(\"one sided pvalue:%.6f\" %(one_sided_pvalue))\n",
    "if pvalue <0.05:\n",
    "    print(\"Reject null hypothesis\")\n",
    "else:\n",
    "    print(\"Fail to reject null hypothesis\")"
   ]
  },
  {
   "cell_type": "markdown",
   "id": "8c2b47e4",
   "metadata": {},
   "source": [
    "<div class=\"alert alert-block alert-info\">\n",
    "<b>Result:</b>\n",
    "\n",
    "p-value is less than 0.05, therefore null hypothesis is rejected. Therefore, alternate hypothesis is accepted.\n",
    "\n",
    "Living in a neighborhoods with higher black ethnic group have lesser population with disabled percentage compared to neighborhoods with lower black ethnic density\n",
    "\n",
    "</div>"
   ]
  },
  {
   "cell_type": "markdown",
   "id": "8548df84",
   "metadata": {},
   "source": [
    "**Hypothesis testting 3**\n",
    "\n",
    "`Null hypothesis (H0)` : As the concentration of  white ethnic group increases in Bradford,the disabled people population in the neighbourhoods will decrease.\n",
    "\n",
    "`Alternate hypothesis (H1)` : As the concentration of the white ethnic group increases in Bradford,the disabled people population in the neighbourhoods will also increase."
   ]
  },
  {
   "cell_type": "code",
   "execution_count": 56,
   "id": "6e781204",
   "metadata": {},
   "outputs": [
    {
     "name": "stdout",
     "output_type": "stream",
     "text": [
      "p value:0.0000\n",
      "The data is not normally distributed\n",
      "p value:0.0000\n",
      "The data is not normally distributed\n",
      "p value:0.0000\n",
      "The variances of the samples are different.\n"
     ]
    }
   ],
   "source": [
    "#checking normality and variance for the third hypothesis\n",
    "\n",
    "check_normality(data.White_pct)\n",
    "check_normality(data.Disabled_pct)\n",
    "check_variance_homogeneity(data.White_pct, data.Disabled_pct)"
   ]
  },
  {
   "cell_type": "code",
   "execution_count": 57,
   "id": "fe52cd20",
   "metadata": {},
   "outputs": [
    {
     "name": "stdout",
     "output_type": "stream",
     "text": [
      "p-value:0.000000 >> one_tailed_pval:0.000000\n",
      "one sided pvalue:1.000000\n",
      "Reject null hypothesis\n"
     ]
    }
   ],
   "source": [
    "# Wilcoxon signed-rank test\n",
    "\n",
    "test,pvalue = stats.wilcoxon(data.White_pct,data.Disabled_pct) ##alternative default two sided\n",
    "print(\"p-value:%.6f\" %pvalue, \">> one_tailed_pval:%.6f\" %(pvalue/2))\n",
    "\n",
    "test,one_sided_pvalue = stats.wilcoxon(data.White_pct,data.Disabled_pct, alternative=\"less\")\n",
    "print(\"one sided pvalue:%.6f\" %(one_sided_pvalue))\n",
    "if pvalue <0.05:\n",
    "    print(\"Reject null hypothesis\")\n",
    "else:\n",
    "    print(\"Fail to reject null hypothesis\")"
   ]
  },
  {
   "cell_type": "markdown",
   "id": "020ab60b",
   "metadata": {},
   "source": [
    "<div class=\"alert alert-block alert-info\">\n",
    "<b>Result:</b>\n",
    "\n",
    "p-value is less than 0.05, therefore null hypothesis is rejected. Alternate hypothesis is accepted. \n",
    "\n",
    "As the concentration of the white ethnic group increases in Bradford,the disabled people population in the neighbourhoods will also increase.\n",
    "\n",
    "Eventhough neighbourhood having high native population of white ethnic group, disabled percentage of  population is high\n",
    "\n",
    "</div>"
   ]
  },
  {
   "cell_type": "markdown",
   "id": "f306a631",
   "metadata": {},
   "source": [
    "**Hypothesis testing 4**\n",
    "\n",
    "`H0 (null hypothesis)`: As the concertation of native ethnic group - white increases across Bradford, the density of neighbourhoods receiving unpaid health care provision will also increase\n",
    "\n",
    "`H1 (alternate hypothesis)`: As the concertation of native ethnic group - white increases across Bradford, the density of neighbourhoods receiving unpaid health care provision will decrease"
   ]
  },
  {
   "cell_type": "code",
   "execution_count": 58,
   "id": "9d4541b7",
   "metadata": {},
   "outputs": [
    {
     "name": "stdout",
     "output_type": "stream",
     "text": [
      "p value:0.0000\n",
      "The data is not normally distributed\n",
      "p value:0.1393\n",
      "The data is normally distributed\n",
      "p value:0.0000\n",
      "The variances of the samples are different.\n"
     ]
    }
   ],
   "source": [
    "#checking normality and variance for the fourth hypothesis\n",
    "\n",
    "check_normality(data.White_pct)\n",
    "check_normality(data.unpaid_care_up9to49_pct)\n",
    "check_variance_homogeneity(data.White_pct, data.unpaid_care_up9to49_pct)"
   ]
  },
  {
   "cell_type": "code",
   "execution_count": 59,
   "id": "2c4c1214",
   "metadata": {},
   "outputs": [],
   "source": [
    "#function to return plots for the feature\n",
    "def normality(data,feature):\n",
    "    plt.figure(figsize=(10,5))\n",
    "    plt.subplot(1,2,1)\n",
    "    sns.kdeplot(data[feature])\n",
    "    plt.subplot(1,2,2)\n",
    "    stats.probplot(data[feature],plot=pylab)\n",
    "    plt.show()"
   ]
  },
  {
   "cell_type": "code",
   "execution_count": 60,
   "id": "88287bc9",
   "metadata": {},
   "outputs": [
    {
     "data": {
      "image/png": "[encoded data removed]",
      "text/plain": [
       "<Figure size 1000x500 with 2 Axes>"
      ]
     },
     "metadata": {},
     "output_type": "display_data"
    }
   ],
   "source": [
    "#The Box-Cox transformation \n",
    "data['White'],parameters=stats.boxcox(data['White_pct'])\n",
    "normality(data,'White')"
   ]
  },
  {
   "cell_type": "code",
   "execution_count": 61,
   "id": "945d245f",
   "metadata": {},
   "outputs": [
    {
     "name": "stdout",
     "output_type": "stream",
     "text": [
      "p value:0.000000 one tailed p value:0.000000\n",
      "Reject null hypothesis\n"
     ]
    }
   ],
   "source": [
    "# t-test dependent\n",
    "\n",
    "test_stat, p_value_paired = stats.ttest_rel(data.White_pct,data.unpaid_care_up9to49_pct)\n",
    "print(\"p value:%.6f\" % p_value_paired , \"one tailed p value:%.6f\" %(p_value_paired/2))\n",
    "if p_value_paired <0.05:\n",
    "    print(\"Reject null hypothesis\")\n",
    "else:\n",
    "    print(\"Fail to reject null hypothesis\")"
   ]
  },
  {
   "cell_type": "markdown",
   "id": "cee58811",
   "metadata": {},
   "source": [
    "<div class=\"alert alert-block alert-info\">\n",
    "<b>Result:</b>\n",
    "    \n",
    "p-value is less than 0.05, therefore null hypothesis is rejected. Alternate hypothesis is accepted.\n",
    "    \n",
    "At this significance level, there is enough evidence to conclude that the average concertation of native ethnic group\n",
    "    \n",
    "white increases across Bradford, the density of neighbourhoods receiving unpaid health care provision will decrease\n",
    "</div>"
   ]
  },
  {
   "cell_type": "markdown",
   "id": "c0db9f8d",
   "metadata": {},
   "source": [
    "**Hypothesis testing 5**\n",
    "\n",
    "`H0 (null hypothesis)`: The experience of providing unpaid health care services vary among different ethnic groups\n",
    "\n",
    "`H1 (alternate hypothesis)`: The experience of providing unpaid health care services does not vary among different ethnic groups"
   ]
  },
  {
   "cell_type": "code",
   "execution_count": 62,
   "id": "31288e13",
   "metadata": {},
   "outputs": [],
   "source": [
    "data1 = data.Asian_pct\n",
    "data2 = data.Black_pct\n",
    "data3 = data.White_pct\n",
    "data4 = data.Others_pct\n",
    "data5 = data.unpaid_care_no_pct\n",
    "data6 = data.unpaid_care_up9to49_pct\n",
    "data7 = data.unpaid_care_above50_pct"
   ]
  },
  {
   "cell_type": "code",
   "execution_count": 63,
   "id": "c5e29ef9",
   "metadata": {},
   "outputs": [
    {
     "name": "stdout",
     "output_type": "stream",
     "text": [
      "p value:0.0000\n",
      "The data is not normally distributed\n",
      "p value:0.0000\n",
      "The data is not normally distributed\n",
      "p value:0.0000\n",
      "The data is not normally distributed\n",
      "p value:0.0000\n",
      "The data is not normally distributed\n",
      "p value:0.0000\n",
      "The data is not normally distributed\n",
      "p value:0.1393\n",
      "The data is normally distributed\n",
      "p value:0.0001\n",
      "The data is not normally distributed\n",
      "p value:0.0000\n",
      "The variances of the samples are different.\n",
      "p value:0.0000\n",
      "Reject null hypothesis >> The variances of the samples are different.\n"
     ]
    }
   ],
   "source": [
    "#checking normality and variance for the fourth hypothesis\n",
    "\n",
    "check_normality(data1)\n",
    "check_normality(data2)\n",
    "check_normality(data3)\n",
    "check_normality(data4)\n",
    "check_normality(data5)\n",
    "check_normality(data6)\n",
    "check_normality(data7)\n",
    "check_variance_homogeneity(data5, data6)\n",
    "\n",
    "print(\"p value:%.4f\" % pvalue)\n",
    "if pvalue <0.05:\n",
    "    print(\"Reject null hypothesis >> The variances of the samples are different.\")\n",
    "else:\n",
    "    print(\"Fail to reject null hypothesis >> The variances of the samples are same.\")"
   ]
  },
  {
   "cell_type": "code",
   "execution_count": 64,
   "id": "ba9dbc03",
   "metadata": {},
   "outputs": [
    {
     "name": "stdout",
     "output_type": "stream",
     "text": [
      "p value:0.0000\n",
      "Reject null hypothesis\n",
      "29.67 1.91 63.82 4.6 90.99 11.42 2.8\n"
     ]
    }
   ],
   "source": [
    "# Friedman Chi-Square\n",
    "\n",
    "test_stat,p_value = stats.friedmanchisquare(data1, data2, data3, data4, data5)\n",
    "print(\"p value:%.4f\" % p_value)\n",
    "if p_value <0.05:\n",
    "    print(\"Reject null hypothesis\")\n",
    "else:\n",
    "    print(\"Fail to reject null hypothesis\")\n",
    "    \n",
    "print(np.round(np.mean(data1),2), np.round(np.mean(data2),2), np.round(np.mean(data3),2), np.round(np.mean(data4),2), np.round(np.mean(data5),2), np.round(np.mean(data6),2), np.round(np.mean(data7),2))\n"
   ]
  },
  {
   "cell_type": "markdown",
   "id": "f837c390",
   "metadata": {},
   "source": [
    "<div class=\"alert alert-block alert-info\">\n",
    "<b>Result:</b> \n",
    "\n",
    "p-value is less than 0.05, therefore null hypothesis is rejected. Alternate hypothesis is accepted.\n",
    "    \n",
    "At this significance level, the experience of providing unpaid health care services does not vary among different ethnic groups\n",
    "</div>"
   ]
  },
  {
   "cell_type": "markdown",
   "id": "ee5c06e6",
   "metadata": {},
   "source": [
    "<div class=\"alert alert-block alert-success\">\n",
    "<b>Hypothesis result</b> \n",
    "    \n",
    "The overall result statistically proves that there is no significant relationship between ethnic segregation and health outcome in Bradford\n",
    "</div>"
   ]
  }
 ],
 "metadata": {
  "kernelspec": {
   "display_name": "Python 3 (ipykernel)",
   "language": "python",
   "name": "python3"
  },
  "language_info": {
   "codemirror_mode": {
    "name": "ipython",
    "version": 3
   },
   "file_extension": ".py",
   "mimetype": "text/x-python",
   "name": "python",
   "nbconvert_exporter": "python",
   "pygments_lexer": "ipython3",
   "version": "3.8.8"
  }
 },
 "nbformat": 4,
 "nbformat_minor": 5
}
